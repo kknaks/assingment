{
 "cells": [
  {
   "cell_type": "code",
   "execution_count": 3,
   "metadata": {},
   "outputs": [
    {
     "ename": "AttributeError",
     "evalue": "'QAxWidget' object has no attribute 'OnReceiveTrData'",
     "output_type": "error",
     "traceback": [
      "\u001b[1;31m---------------------------------------------------------------------------\u001b[0m",
      "\u001b[1;31mAttributeError\u001b[0m                            Traceback (most recent call last)",
      "\u001b[1;32m~\\AppData\\Local\\Temp\\ipykernel_33240\\1883042902.py\u001b[0m in \u001b[0;36m<module>\u001b[1;34m\u001b[0m\n\u001b[0;32m      1\u001b[0m \u001b[1;32mfrom\u001b[0m \u001b[0mpykiwoom\u001b[0m\u001b[1;33m.\u001b[0m\u001b[0mkiwoom\u001b[0m \u001b[1;32mimport\u001b[0m \u001b[1;33m*\u001b[0m\u001b[1;33m\u001b[0m\u001b[1;33m\u001b[0m\u001b[0m\n\u001b[0;32m      2\u001b[0m \u001b[1;33m\u001b[0m\u001b[0m\n\u001b[1;32m----> 3\u001b[1;33m \u001b[0mkiwoom\u001b[0m \u001b[1;33m=\u001b[0m \u001b[0mKiwoom\u001b[0m\u001b[1;33m(\u001b[0m\u001b[1;33m)\u001b[0m\u001b[1;33m\u001b[0m\u001b[1;33m\u001b[0m\u001b[0m\n\u001b[0m\u001b[0;32m      4\u001b[0m \u001b[0mkiwoom\u001b[0m\u001b[1;33m.\u001b[0m\u001b[0mCommConnect\u001b[0m\u001b[1;33m(\u001b[0m\u001b[0mblock\u001b[0m\u001b[1;33m=\u001b[0m\u001b[1;32mTrue\u001b[0m\u001b[1;33m)\u001b[0m\u001b[1;33m\u001b[0m\u001b[1;33m\u001b[0m\u001b[0m\n\u001b[0;32m      5\u001b[0m \u001b[1;33m\u001b[0m\u001b[0m\n",
      "\u001b[1;32m~\\AppData\\Roaming\\Python\\Python39\\site-packages\\pykiwoom\\kiwoom.py\u001b[0m in \u001b[0;36m__init__\u001b[1;34m(self, login, tr_dqueue, real_dqueues, tr_cond_dqueue, real_cond_dqueue, chejan_dqueue)\u001b[0m\n\u001b[0;32m     34\u001b[0m         \u001b[0mself\u001b[0m\u001b[1;33m.\u001b[0m\u001b[0mcondition_loaded\u001b[0m   \u001b[1;33m=\u001b[0m \u001b[1;32mFalse\u001b[0m\u001b[1;33m\u001b[0m\u001b[1;33m\u001b[0m\u001b[0m\n\u001b[0;32m     35\u001b[0m \u001b[1;33m\u001b[0m\u001b[0m\n\u001b[1;32m---> 36\u001b[1;33m         \u001b[0mself\u001b[0m\u001b[1;33m.\u001b[0m\u001b[0m_set_signals_slots\u001b[0m\u001b[1;33m(\u001b[0m\u001b[1;33m)\u001b[0m\u001b[1;33m\u001b[0m\u001b[1;33m\u001b[0m\u001b[0m\n\u001b[0m\u001b[0;32m     37\u001b[0m \u001b[1;33m\u001b[0m\u001b[0m\n\u001b[0;32m     38\u001b[0m         \u001b[0mself\u001b[0m\u001b[1;33m.\u001b[0m\u001b[0mtr_output\u001b[0m \u001b[1;33m=\u001b[0m \u001b[1;33m{\u001b[0m\u001b[1;33m}\u001b[0m\u001b[1;33m\u001b[0m\u001b[1;33m\u001b[0m\u001b[0m\n",
      "\u001b[1;32m~\\AppData\\Roaming\\Python\\Python39\\site-packages\\pykiwoom\\kiwoom.py\u001b[0m in \u001b[0;36m_set_signals_slots\u001b[1;34m(self)\u001b[0m\n\u001b[0;32m    215\u001b[0m \u001b[1;33m\u001b[0m\u001b[0m\n\u001b[0;32m    216\u001b[0m     \u001b[1;32mdef\u001b[0m \u001b[0m_set_signals_slots\u001b[0m\u001b[1;33m(\u001b[0m\u001b[0mself\u001b[0m\u001b[1;33m)\u001b[0m\u001b[1;33m:\u001b[0m\u001b[1;33m\u001b[0m\u001b[1;33m\u001b[0m\u001b[0m\n\u001b[1;32m--> 217\u001b[1;33m         \u001b[0mself\u001b[0m\u001b[1;33m.\u001b[0m\u001b[0mocx\u001b[0m\u001b[1;33m.\u001b[0m\u001b[0mOnReceiveTrData\u001b[0m\u001b[1;33m.\u001b[0m\u001b[0mconnect\u001b[0m\u001b[1;33m(\u001b[0m\u001b[0mself\u001b[0m\u001b[1;33m.\u001b[0m\u001b[0mOnReceiveTrData\u001b[0m\u001b[1;33m)\u001b[0m\u001b[1;33m\u001b[0m\u001b[1;33m\u001b[0m\u001b[0m\n\u001b[0m\u001b[0;32m    218\u001b[0m         \u001b[0mself\u001b[0m\u001b[1;33m.\u001b[0m\u001b[0mocx\u001b[0m\u001b[1;33m.\u001b[0m\u001b[0mOnReceiveRealData\u001b[0m\u001b[1;33m.\u001b[0m\u001b[0mconnect\u001b[0m\u001b[1;33m(\u001b[0m\u001b[0mself\u001b[0m\u001b[1;33m.\u001b[0m\u001b[0mOnReceiveRealData\u001b[0m\u001b[1;33m)\u001b[0m\u001b[1;33m\u001b[0m\u001b[1;33m\u001b[0m\u001b[0m\n\u001b[0;32m    219\u001b[0m         \u001b[0mself\u001b[0m\u001b[1;33m.\u001b[0m\u001b[0mocx\u001b[0m\u001b[1;33m.\u001b[0m\u001b[0mOnReceiveMsg\u001b[0m\u001b[1;33m.\u001b[0m\u001b[0mconnect\u001b[0m\u001b[1;33m(\u001b[0m\u001b[0mself\u001b[0m\u001b[1;33m.\u001b[0m\u001b[0mOnReceiveMsg\u001b[0m\u001b[1;33m)\u001b[0m\u001b[1;33m\u001b[0m\u001b[1;33m\u001b[0m\u001b[0m\n",
      "\u001b[1;31mAttributeError\u001b[0m: 'QAxWidget' object has no attribute 'OnReceiveTrData'"
     ]
    }
   ],
   "source": [
    "from pykiwoom.kiwoom import *\n",
    "\n",
    "kiwoom = Kiwoom()\n",
    "kiwoom.CommConnect(block=True)\n",
    "\n",
    "kospi = kiwoom.GetCodeListByMarket('0')\n",
    "kosdaq = kiwoom.GetCodeListByMarket('10')\n",
    "etf = kiwoom.GetCodeListByMarket('8')\n",
    "\n",
    "print(len(kospi), kospi)\n",
    "print(len(kosdaq), kosdaq)\n",
    "print(len(etf), etf)"
   ]
  },
  {
   "cell_type": "code",
   "execution_count": 49,
   "metadata": {},
   "outputs": [],
   "source": [
    "import re\n",
    "import pandas as pd\n",
    "import requests\n",
    "from bs4 import BeautifulSoup\n",
    "from tqdm import tqdm"
   ]
  },
  {
   "cell_type": "code",
   "execution_count": 166,
   "metadata": {},
   "outputs": [],
   "source": [
    "#특정 날짜 23년 2월 2일 크롤링\n",
    "url = 'http://www.fantastock.co.kr/bbs/board.php?bo_table=free_list23&wr_id=2190#section1'\n",
    "response = requests.get(\n",
    "    url,\n",
    "    headers={\n",
    "        'User-Agent': 'Mozilla 5.0'\n",
    "    }\n",
    "    )\n",
    "bs = BeautifulSoup(response.text, 'lxml')    "
   ]
  },
  {
   "cell_type": "code",
   "execution_count": 167,
   "metadata": {},
   "outputs": [],
   "source": [
    "#특정 날짜 23년 2월 2일 크롤링\n",
    "df = pd.DataFrame(columns=['comment'])\n",
    "for i in range(len(bs.select('.cmt_contents'))):\n",
    "    comment = bs.select('.cmt_contents')[i].text\n",
    "    df.loc[i] = [comment]"
   ]
  },
  {
   "cell_type": "code",
   "execution_count": 168,
   "metadata": {},
   "outputs": [
    {
     "data": {
      "text/html": [
       "<div>\n",
       "<style scoped>\n",
       "    .dataframe tbody tr th:only-of-type {\n",
       "        vertical-align: middle;\n",
       "    }\n",
       "\n",
       "    .dataframe tbody tr th {\n",
       "        vertical-align: top;\n",
       "    }\n",
       "\n",
       "    .dataframe thead th {\n",
       "        text-align: right;\n",
       "    }\n",
       "</style>\n",
       "<table border=\"1\" class=\"dataframe\">\n",
       "  <thead>\n",
       "    <tr style=\"text-align: right;\">\n",
       "      <th></th>\n",
       "      <th>comment</th>\n",
       "    </tr>\n",
       "  </thead>\n",
       "  <tbody>\n",
       "    <tr>\n",
       "      <th>0</th>\n",
       "      <td>\\n\\n  \\n</td>\n",
       "    </tr>\n",
       "    <tr>\n",
       "      <th>1</th>\n",
       "      <td>\\n\\n             \\n</td>\n",
       "    </tr>\n",
       "    <tr>\n",
       "      <th>2</th>\n",
       "      <td>\\n\\n           \\n</td>\n",
       "    </tr>\n",
       "    <tr>\n",
       "      <th>3</th>\n",
       "      <td>\\n\\n \\n</td>\n",
       "    </tr>\n",
       "    <tr>\n",
       "      <th>4</th>\n",
       "      <td>\\n\\n전일 미국증시부터 살펴보고 가겠습니다.     \\n</td>\n",
       "    </tr>\n",
       "    <tr>\n",
       "      <th>...</th>\n",
       "      <td>...</td>\n",
       "    </tr>\n",
       "    <tr>\n",
       "      <th>81</th>\n",
       "      <td>\\n\\n\\n</td>\n",
       "    </tr>\n",
       "    <tr>\n",
       "      <th>82</th>\n",
       "      <td>\\n\\n\\n</td>\n",
       "    </tr>\n",
       "    <tr>\n",
       "      <th>83</th>\n",
       "      <td>\\n\\n \\n</td>\n",
       "    </tr>\n",
       "    <tr>\n",
       "      <th>84</th>\n",
       "      <td>\\n\\n코스피 상승, 코스닥 상승 거래소 : 개인 매도 / 외국인 매수 / 기관 매...</td>\n",
       "    </tr>\n",
       "    <tr>\n",
       "      <th>85</th>\n",
       "      <td>\\n\\n[2월 2일 국내 증시 마감시황]코스피 2,468.88 ▲19.08 (+0....</td>\n",
       "    </tr>\n",
       "  </tbody>\n",
       "</table>\n",
       "<p>86 rows × 1 columns</p>\n",
       "</div>"
      ],
      "text/plain": [
       "                                              comment\n",
       "0                                            \\n\\n  \\n\n",
       "1                                 \\n\\n             \\n\n",
       "2                                   \\n\\n           \\n\n",
       "3                                             \\n\\n \\n\n",
       "4                    \\n\\n전일 미국증시부터 살펴보고 가겠습니다.     \\n\n",
       "..                                                ...\n",
       "81                                             \\n\\n\\n\n",
       "82                                             \\n\\n\\n\n",
       "83                                            \\n\\n \\n\n",
       "84  \\n\\n코스피 상승, 코스닥 상승 거래소 : 개인 매도 / 외국인 매수 / 기관 매...\n",
       "85  \\n\\n[2월 2일 국내 증시 마감시황]코스피 2,468.88 ▲19.08 (+0....\n",
       "\n",
       "[86 rows x 1 columns]"
      ]
     },
     "execution_count": 168,
     "metadata": {},
     "output_type": "execute_result"
    }
   ],
   "source": [
    "df"
   ]
  },
  {
   "cell_type": "code",
   "execution_count": 4,
   "metadata": {},
   "outputs": [],
   "source": [
    "#게시판에서 각 게시물 주소얻기 \n",
    "url = 'http://www.fantastock.co.kr/bbs/board.php?bo_table=free_list23'\n",
    "response = requests.get(\n",
    "    url,\n",
    "    headers={\n",
    "        'User-Agent': 'Mozilla 5.0'\n",
    "    }\n",
    "    )\n",
    "bs = BeautifulSoup(response.text, 'lxml') "
   ]
  },
  {
   "cell_type": "code",
   "execution_count": 198,
   "metadata": {},
   "outputs": [
    {
     "data": {
      "text/plain": [
       "33"
      ]
     },
     "execution_count": 198,
     "metadata": {},
     "output_type": "execute_result"
    }
   ],
   "source": [
    "len(bs.select('table>tr'))"
   ]
  },
  {
   "cell_type": "code",
   "execution_count": 200,
   "metadata": {},
   "outputs": [],
   "source": [
    "#1페이지 링크 얻기\n",
    "for i in range(len(bs.select('table>tr'))):\n",
    "    date = bs.select('table>tr')[i].select('dd')[1].text\n",
    "    url_link = bs.select('table>tr')[i].select('a')[0].get('href')"
   ]
  },
  {
   "cell_type": "code",
   "execution_count": 5,
   "metadata": {},
   "outputs": [],
   "source": [
    "#해당 년도 모든 페이지에 날짜 url 얻기\n",
    "#마지막 페이지 찾는 작업 필요 \n",
    "for page_num in range(1,4):\n",
    "    url = f'http://www.fantastock.co.kr/bbs/board.php?bo_table=free_list22&page={page_num}'\n",
    "    response = requests.get(\n",
    "        url,\n",
    "        headers={\n",
    "        'User-Agent': 'Mozilla 5.0'\n",
    "        }\n",
    "        )\n",
    "    bs = BeautifulSoup(response.text, 'lxml') \n",
    "\n",
    "    for i in range(len(bs.select('table>tr'))):\n",
    "        date = bs.select('table>tr')[i].select('dd')[1].text\n",
    "        url_link = bs.select('table>tr')[i].select('a')[0].get('href')"
   ]
  },
  {
   "cell_type": "code",
   "execution_count": 8,
   "metadata": {},
   "outputs": [],
   "source": [
    "def get_info_from_url(url):\n",
    "    response = requests.get(\n",
    "        url,\n",
    "        headers={\n",
    "        'User-Agent': 'Mozilla 5.0'\n",
    "        }\n",
    "    )\n",
    "    bs = BeautifulSoup(response.text, 'lxml') \n",
    "    return bs"
   ]
  },
  {
   "cell_type": "code",
   "execution_count": 9,
   "metadata": {},
   "outputs": [
    {
     "name": "stderr",
     "output_type": "stream",
     "text": [
      "100%|██████████| 3/3 [00:13<00:00,  4.49s/it]\n",
      "100%|██████████| 3/3 [00:17<00:00,  5.67s/it]\n",
      "100%|██████████| 3/3 [00:18<00:00,  6.14s/it]\n",
      "100%|██████████| 3/3 [01:38<00:00, 32.67s/it]\n",
      "100%|██████████| 3/3 [00:09<00:00,  3.21s/it]\n",
      "100%|██████████| 5/5 [02:36<00:00, 31.31s/it]"
     ]
    },
    {
     "name": "stdout",
     "output_type": "stream",
     "text": [
      "1\n",
      "1\n"
     ]
    },
    {
     "name": "stderr",
     "output_type": "stream",
     "text": [
      "\n"
     ]
    }
   ],
   "source": [
    "#모든 년도 모든 페이지에 날짜 url 얻기\n",
    "#마지막 페이지 찾는 작업 필요 \n",
    "df = pd.DataFrame()\n",
    "for year in tqdm(range(19,24)):\n",
    "    for page_num in tqdm(range(1,4)):\n",
    "        url = f'http://www.fantastock.co.kr/bbs/board.php?bo_table=free_list{year}&page={page_num}'\n",
    "        bs = get_info_from_url(url)  \n",
    "        info_from_bs = bs.select('table>tr')\n",
    "        for bs in info_from_bs:\n",
    "            try :\n",
    "                date = bs.select('dd')[1].text\n",
    "                url_link = bs.select('a')[0].get('href')\n",
    "                bs = get_info_from_url(url_link)\n",
    "                data_from_url = bs.select('.cmt_contents')\n",
    "\n",
    "                for comments in data_from_url:\n",
    "                    comment = comments.text\n",
    "\n",
    "                    temp = pd.DataFrame({\n",
    "                        'date': date,\n",
    "                        'url': url_link,\n",
    "                        'comment': comment\n",
    "                        }, index=[0])\n",
    "\n",
    "                    df = pd.concat([df, temp], axis=0)\n",
    "            except IndexError:\n",
    "                print(1)"
   ]
  },
  {
   "cell_type": "code",
   "execution_count": 41,
   "metadata": {},
   "outputs": [],
   "source": [
    "#파일로 저장\n",
    "df.to_csv('data.csv', index=False, encoding='utf-8-sig')"
   ]
  },
  {
   "cell_type": "code",
   "execution_count": 42,
   "metadata": {},
   "outputs": [],
   "source": [
    "#파일 불러오기\n",
    "df = pd.read_csv('./data.csv')"
   ]
  },
  {
   "cell_type": "code",
   "execution_count": 44,
   "metadata": {},
   "outputs": [],
   "source": [
    "#매수 포함 가져오기\n",
    "df = df[df['comment'].str.contains('매수', na =False)]"
   ]
  },
  {
   "cell_type": "code",
   "execution_count": 45,
   "metadata": {},
   "outputs": [],
   "source": [
    "#현재시간 포함 가져오기\n",
    "df = df[df['comment'].str.contains('현재시간', na =False)]"
   ]
  },
  {
   "cell_type": "code",
   "execution_count": 51,
   "metadata": {},
   "outputs": [],
   "source": [
    "#공백 지우기\n",
    "df['comment']=df.comment.apply(lambda x : re.sub('\\\\n',' ',x) )"
   ]
  },
  {
   "cell_type": "code",
   "execution_count": null,
   "metadata": {},
   "outputs": [],
   "source": [
    "soojung['refined_comments'] = soojung.comments.apply(lambda x: re.sub('[ㄱ-ㅎㅏ-ㅣ^!.,]', '', x))"
   ]
  },
  {
   "cell_type": "code",
   "execution_count": 98,
   "metadata": {},
   "outputs": [],
   "source": [
    "df['slicing_comment'] = df.comment.apply(lambda x : re.findall('\\d+분 (\\w+)',x))"
   ]
  },
  {
   "cell_type": "code",
   "execution_count": 109,
   "metadata": {},
   "outputs": [
    {
     "data": {
      "text/html": [
       "<div>\n",
       "<style scoped>\n",
       "    .dataframe tbody tr th:only-of-type {\n",
       "        vertical-align: middle;\n",
       "    }\n",
       "\n",
       "    .dataframe tbody tr th {\n",
       "        vertical-align: top;\n",
       "    }\n",
       "\n",
       "    .dataframe thead th {\n",
       "        text-align: right;\n",
       "    }\n",
       "</style>\n",
       "<table border=\"1\" class=\"dataframe\">\n",
       "  <thead>\n",
       "    <tr style=\"text-align: right;\">\n",
       "      <th></th>\n",
       "      <th>date</th>\n",
       "      <th>url</th>\n",
       "      <th>comment</th>\n",
       "      <th>slicing_comment</th>\n",
       "    </tr>\n",
       "  </thead>\n",
       "  <tbody>\n",
       "    <tr>\n",
       "      <th>18</th>\n",
       "      <td>2019.12.27</td>\n",
       "      <td>http://www.fantastock.co.kr/bbs/board.php?bo_t...</td>\n",
       "      <td>▶ 현재시간 9시 00분 에스맥 현재가 1105원 기준 매수!!</td>\n",
       "      <td>[에스맥]</td>\n",
       "    </tr>\n",
       "    <tr>\n",
       "      <th>20</th>\n",
       "      <td>2019.12.27</td>\n",
       "      <td>http://www.fantastock.co.kr/bbs/board.php?bo_t...</td>\n",
       "      <td>▶ 현재시간 9시 01분 화천기계 현재가 3180원 기준 매수!!</td>\n",
       "      <td>[화천기계]</td>\n",
       "    </tr>\n",
       "    <tr>\n",
       "      <th>22</th>\n",
       "      <td>2019.12.27</td>\n",
       "      <td>http://www.fantastock.co.kr/bbs/board.php?bo_t...</td>\n",
       "      <td>▶ 현재시간 9시 02분 루미마이크로 현재가 1970원 기준 매수!!</td>\n",
       "      <td>[루미마이크로]</td>\n",
       "    </tr>\n",
       "    <tr>\n",
       "      <th>123</th>\n",
       "      <td>2019.12.26</td>\n",
       "      <td>http://www.fantastock.co.kr/bbs/board.php?bo_t...</td>\n",
       "      <td>▶ 현재시간 9시 00분 한국화장품 현재가 11400원 기준 매수!!</td>\n",
       "      <td>[한국화장품]</td>\n",
       "    </tr>\n",
       "    <tr>\n",
       "      <th>125</th>\n",
       "      <td>2019.12.26</td>\n",
       "      <td>http://www.fantastock.co.kr/bbs/board.php?bo_t...</td>\n",
       "      <td>▶ 현재시간 9시 01분 디앤씨미디어 현재가 16500원 기준 매수!!</td>\n",
       "      <td>[디앤씨미디어]</td>\n",
       "    </tr>\n",
       "    <tr>\n",
       "      <th>...</th>\n",
       "      <td>...</td>\n",
       "      <td>...</td>\n",
       "      <td>...</td>\n",
       "      <td>...</td>\n",
       "    </tr>\n",
       "    <tr>\n",
       "      <th>41578</th>\n",
       "      <td>2022.12.22</td>\n",
       "      <td>http://www.fantastock.co.kr/bbs/board.php?bo_t...</td>\n",
       "      <td>▶ 현재시간 9시 3분 팬오션 현재가 6050원 기준 매수!!</td>\n",
       "      <td>[팬오션]</td>\n",
       "    </tr>\n",
       "    <tr>\n",
       "      <th>41645</th>\n",
       "      <td>2022.12.21</td>\n",
       "      <td>http://www.fantastock.co.kr/bbs/board.php?bo_t...</td>\n",
       "      <td>▶ 현재시간 9시 6분 세종메디칼 현재가 3450원 기준 매수!!</td>\n",
       "      <td>[세종메디칼]</td>\n",
       "    </tr>\n",
       "    <tr>\n",
       "      <th>41647</th>\n",
       "      <td>2022.12.21</td>\n",
       "      <td>http://www.fantastock.co.kr/bbs/board.php?bo_t...</td>\n",
       "      <td>▶ 현재시간 9시 7분 청담글로벌 현재가 11350원 기준 매수!!</td>\n",
       "      <td>[청담글로벌]</td>\n",
       "    </tr>\n",
       "    <tr>\n",
       "      <th>41797</th>\n",
       "      <td>2022.12.19</td>\n",
       "      <td>http://www.fantastock.co.kr/bbs/board.php?bo_t...</td>\n",
       "      <td>▶ 현재시간 9시 0분 노터스 현재가 6250원 기준 매수!!</td>\n",
       "      <td>[노터스]</td>\n",
       "    </tr>\n",
       "    <tr>\n",
       "      <th>41799</th>\n",
       "      <td>2022.12.19</td>\n",
       "      <td>http://www.fantastock.co.kr/bbs/board.php?bo_t...</td>\n",
       "      <td>▶ 현재시간 9시 7분 카카오게임즈 현재가 45700원 기준 매수!!</td>\n",
       "      <td>[카카오게임즈]</td>\n",
       "    </tr>\n",
       "  </tbody>\n",
       "</table>\n",
       "<p>982 rows × 4 columns</p>\n",
       "</div>"
      ],
      "text/plain": [
       "             date                                                url  \\\n",
       "18     2019.12.27  http://www.fantastock.co.kr/bbs/board.php?bo_t...   \n",
       "20     2019.12.27  http://www.fantastock.co.kr/bbs/board.php?bo_t...   \n",
       "22     2019.12.27  http://www.fantastock.co.kr/bbs/board.php?bo_t...   \n",
       "123    2019.12.26  http://www.fantastock.co.kr/bbs/board.php?bo_t...   \n",
       "125    2019.12.26  http://www.fantastock.co.kr/bbs/board.php?bo_t...   \n",
       "...           ...                                                ...   \n",
       "41578  2022.12.22  http://www.fantastock.co.kr/bbs/board.php?bo_t...   \n",
       "41645  2022.12.21  http://www.fantastock.co.kr/bbs/board.php?bo_t...   \n",
       "41647  2022.12.21  http://www.fantastock.co.kr/bbs/board.php?bo_t...   \n",
       "41797  2022.12.19  http://www.fantastock.co.kr/bbs/board.php?bo_t...   \n",
       "41799  2022.12.19  http://www.fantastock.co.kr/bbs/board.php?bo_t...   \n",
       "\n",
       "                                               comment slicing_comment  \n",
       "18             ▶ 현재시간 9시 00분 에스맥 현재가 1105원 기준 매수!!               [에스맥]  \n",
       "20           ▶ 현재시간 9시 01분 화천기계 현재가 3180원 기준 매수!!               [화천기계]  \n",
       "22        ▶ 현재시간 9시 02분 루미마이크로 현재가 1970원 기준 매수!!              [루미마이크로]  \n",
       "123       ▶ 현재시간 9시 00분 한국화장품 현재가 11400원 기준 매수!!               [한국화장품]  \n",
       "125      ▶ 현재시간 9시 01분 디앤씨미디어 현재가 16500원 기준 매수!!              [디앤씨미디어]  \n",
       "...                                                ...             ...  \n",
       "41578          ▶ 현재시간 9시 3분 팬오션 현재가 6050원 기준 매수!!                [팬오션]  \n",
       "41645        ▶ 현재시간 9시 6분 세종메디칼 현재가 3450원 기준 매수!!              [세종메디칼]  \n",
       "41647       ▶ 현재시간 9시 7분 청담글로벌 현재가 11350원 기준 매수!!              [청담글로벌]  \n",
       "41797           ▶ 현재시간 9시 0분 노터스 현재가 6250원 기준 매수!!               [노터스]  \n",
       "41799      ▶ 현재시간 9시 7분 카카오게임즈 현재가 45700원 기준 매수!!             [카카오게임즈]  \n",
       "\n",
       "[982 rows x 4 columns]"
      ]
     },
     "execution_count": 109,
     "metadata": {},
     "output_type": "execute_result"
    }
   ],
   "source": [
    "df"
   ]
  }
 ],
 "metadata": {
  "kernelspec": {
   "display_name": "base",
   "language": "python",
   "name": "python3"
  },
  "language_info": {
   "codemirror_mode": {
    "name": "ipython",
    "version": 3
   },
   "file_extension": ".py",
   "mimetype": "text/x-python",
   "name": "python",
   "nbconvert_exporter": "python",
   "pygments_lexer": "ipython3",
   "version": "3.9.13"
  },
  "orig_nbformat": 4,
  "vscode": {
   "interpreter": {
    "hash": "5478d14425b9aa73d6640ed3ebfbad833b114ff5808d8642989083e98a9a9722"
   }
  }
 },
 "nbformat": 4,
 "nbformat_minor": 2
}
