{
 "cells": [
  {
   "cell_type": "code",
   "execution_count": 1,
   "metadata": {},
   "outputs": [],
   "source": [
    "import re\n",
    "import pandas as pd\n",
    "import json\n",
    "import requests\n",
    "import FinanceDataReader as fdr\n",
    "import numpy as np\n",
    "from bs4 import BeautifulSoup\n",
    "from tqdm import tqdm\n",
    "from datetime import datetime"
   ]
  },
  {
   "cell_type": "code",
   "execution_count": 4,
   "metadata": {},
   "outputs": [],
   "source": [
    "#특정 날짜 23년 2월 2일 크롤링\n",
    "url = 'http://www.fantastock.co.kr/bbs/board.php?bo_table=free_list23&wr_id=2190#section1'\n",
    "response = requests.get(\n",
    "    url,\n",
    "    headers={\n",
    "        'User-Agent': 'Mozilla 5.0'\n",
    "    }\n",
    "    )\n",
    "bs = BeautifulSoup(response.text, 'lxml')    "
   ]
  },
  {
   "cell_type": "code",
   "execution_count": 167,
   "metadata": {},
   "outputs": [],
   "source": [
    "#특정 날짜 23년 2월 2일 크롤링\n",
    "df = pd.DataFrame(columns=['comment'])\n",
    "for i in range(len(bs.select('.cmt_contents'))):\n",
    "    comment = bs.select('.cmt_contents')[i].text\n",
    "    df.loc[i] = [comment]"
   ]
  },
  {
   "cell_type": "code",
   "execution_count": 4,
   "metadata": {},
   "outputs": [],
   "source": [
    "#게시판에서 각 게시물 주소얻기 \n",
    "url = 'http://www.fantastock.co.kr/bbs/board.php?bo_table=free_list23'\n",
    "response = requests.get(\n",
    "    url,\n",
    "    headers={\n",
    "        'User-Agent': 'Mozilla 5.0'\n",
    "    }\n",
    "    )\n",
    "bs = BeautifulSoup(response.text, 'lxml') "
   ]
  },
  {
   "cell_type": "code",
   "execution_count": 200,
   "metadata": {},
   "outputs": [],
   "source": [
    "#1페이지 링크 얻기\n",
    "for i in range(len(bs.select('table>tr'))):\n",
    "    date = bs.select('table>tr')[i].select('dd')[1].text\n",
    "    url_link = bs.select('table>tr')[i].select('a')[0].get('href')"
   ]
  },
  {
   "cell_type": "code",
   "execution_count": 5,
   "metadata": {},
   "outputs": [],
   "source": [
    "#해당 년도 모든 페이지에 날짜 url 얻기\n",
    "#마지막 페이지 찾는 작업 필요 \n",
    "for page_num in range(1,4):\n",
    "    url = f'http://www.fantastock.co.kr/bbs/board.php?bo_table=free_list22&page={page_num}'\n",
    "    response = requests.get(\n",
    "        url,\n",
    "        headers={\n",
    "        'User-Agent': 'Mozilla 5.0'\n",
    "        }\n",
    "        )\n",
    "    bs = BeautifulSoup(response.text, 'lxml') \n",
    "\n",
    "    for i in range(len(bs.select('table>tr'))):\n",
    "        date = bs.select('table>tr')[i].select('dd')[1].text\n",
    "        url_link = bs.select('table>tr')[i].select('a')[0].get('href')"
   ]
  },
  {
   "cell_type": "code",
   "execution_count": 8,
   "metadata": {},
   "outputs": [],
   "source": [
    "#함수화\n",
    "def get_info_from_url(url):\n",
    "    response = requests.get(\n",
    "        url,\n",
    "        headers={\n",
    "        'User-Agent': 'Mozilla 5.0'\n",
    "        }\n",
    "    )\n",
    "    bs = BeautifulSoup(response.text, 'lxml') \n",
    "    return bs"
   ]
  },
  {
   "cell_type": "code",
   "execution_count": 9,
   "metadata": {},
   "outputs": [
    {
     "name": "stderr",
     "output_type": "stream",
     "text": [
      "100%|██████████| 3/3 [00:13<00:00,  4.49s/it]\n",
      "100%|██████████| 3/3 [00:17<00:00,  5.67s/it]\n",
      "100%|██████████| 3/3 [00:18<00:00,  6.14s/it]\n",
      "100%|██████████| 3/3 [01:38<00:00, 32.67s/it]\n",
      "100%|██████████| 3/3 [00:09<00:00,  3.21s/it]\n",
      "100%|██████████| 5/5 [02:36<00:00, 31.31s/it]"
     ]
    },
    {
     "name": "stdout",
     "output_type": "stream",
     "text": [
      "1\n",
      "1\n"
     ]
    },
    {
     "name": "stderr",
     "output_type": "stream",
     "text": [
      "\n"
     ]
    }
   ],
   "source": [
    "#모든 년도 모든 페이지에 날짜 url 얻기\n",
    "#마지막 페이지 찾는 작업 필요 \n",
    "df = pd.DataFrame()\n",
    "for year in tqdm(range(19,24)):\n",
    "    for page_num in tqdm(range(1,4)):\n",
    "        url = f'http://www.fantastock.co.kr/bbs/board.php?bo_table=free_list{year}&page={page_num}'\n",
    "        bs = get_info_from_url(url)  \n",
    "        info_from_bs = bs.select('table>tr')\n",
    "        for bs in info_from_bs:\n",
    "            try :\n",
    "                date = bs.select('dd')[1].text\n",
    "                url_link = bs.select('a')[0].get('href')\n",
    "                bs = get_info_from_url(url_link)\n",
    "                data_from_url = bs.select('.cmt_contents')\n",
    "\n",
    "                for comments in data_from_url:\n",
    "                    comment = comments.text\n",
    "\n",
    "                    temp = pd.DataFrame({\n",
    "                        'date': date,\n",
    "                        'url': url_link,\n",
    "                        'comment': comment\n",
    "                        }, index=[0])\n",
    "\n",
    "                    df = pd.concat([df, temp], axis=0)\n",
    "            except IndexError:\n",
    "                print(1)"
   ]
  },
  {
   "cell_type": "code",
   "execution_count": 41,
   "metadata": {},
   "outputs": [],
   "source": [
    "#파일로 저장\n",
    "df.to_csv('data.csv', index=False, encoding='utf-8-sig')\n"
   ]
  },
  {
   "cell_type": "code",
   "execution_count": 59,
   "metadata": {},
   "outputs": [],
   "source": [
    "#파일 불러오기\n",
    "df = pd.read_csv('./data.csv')"
   ]
  },
  {
   "cell_type": "code",
   "execution_count": 60,
   "metadata": {},
   "outputs": [],
   "source": [
    "#금일 추천주 필터링\n",
    "df = df[df['comment'].str.contains('매수', na =False)]\n",
    "df = df[df['comment'].str.contains('현재시간', na =False)]\n",
    "df = df[df['comment'].str.contains('▶', na =False)]\n",
    "df['comment'] = df.comment.apply(lambda x : re.sub('\\\\n','',x))"
   ]
  },
  {
   "cell_type": "code",
   "execution_count": 61,
   "metadata": {},
   "outputs": [],
   "source": [
    "#date 를 datetime 형식으로 변환 1\n",
    "df['date'] = df.date.apply(lambda x : x.replace(\".\",\"\"))\n",
    "df['date']= df['date'].astype('str')\n",
    "df['date'] = df.date.apply(lambda x : datetime.strptime(x,'%Y%m%d'))\n",
    "df = df.reset_index(drop=True)"
   ]
  },
  {
   "cell_type": "code",
   "execution_count": 63,
   "metadata": {},
   "outputs": [],
   "source": [
    "#date 를 datetime 형식으로 변환 2\n",
    "#df2 = df \n",
    "#df2['date'] = pd.to_datetime(df2['date'])"
   ]
  },
  {
   "cell_type": "code",
   "execution_count": 64,
   "metadata": {},
   "outputs": [],
   "source": [
    "# # 예외찾기\n",
    "# df2 = df['slicing_comment'].apply(lambda x : x == [] )\n",
    "# df2[df2]"
   ]
  },
  {
   "cell_type": "code",
   "execution_count": 65,
   "metadata": {},
   "outputs": [
    {
     "name": "stderr",
     "output_type": "stream",
     "text": [
      "C:\\Users\\admin\\AppData\\Local\\Temp\\ipykernel_16464\\3069763651.py:2: SettingWithCopyWarning: \n",
      "A value is trying to be set on a copy of a slice from a DataFrame\n",
      "\n",
      "See the caveats in the documentation: https://pandas.pydata.org/pandas-docs/stable/user_guide/indexing.html#returning-a-view-versus-a-copy\n",
      "  df.comment[54] = df.comment[54].replace('\\xa0',' ')\n"
     ]
    }
   ],
   "source": [
    "#예외처리\n",
    "df.comment[54] = df.comment[54].replace('\\xa0',' ')"
   ]
  },
  {
   "cell_type": "code",
   "execution_count": 66,
   "metadata": {},
   "outputs": [],
   "source": [
    "#종목 슬라이스\n",
    "df['slicing_comment'] = df.comment.apply(lambda x : re.findall('\\d+분 ([가-힣A-z]+)',x)[0])"
   ]
  },
  {
   "cell_type": "code",
   "execution_count": 67,
   "metadata": {},
   "outputs": [],
   "source": [
    "#종목명 추출\n",
    "recommended_stock = df.filter(items=['date','slicing_comment'])\n",
    "recommended_stock = recommended_stock.rename(columns={'slicing_comment':'stock_name'})"
   ]
  },
  {
   "cell_type": "code",
   "execution_count": 68,
   "metadata": {},
   "outputs": [],
   "source": [
    "#데이터프레임 한번에 보기\n",
    "#pd.set_option('display.max_rows', None)\n",
    "#다시 돌리기\n",
    "#pd.options.display.max_rows = 100"
   ]
  },
  {
   "cell_type": "code",
   "execution_count": 69,
   "metadata": {},
   "outputs": [],
   "source": [
    "#대소변환\n",
    "recommended_stock['stock_name'] = recommended_stock.stock_name.str.upper()"
   ]
  },
  {
   "cell_type": "code",
   "execution_count": 70,
   "metadata": {},
   "outputs": [],
   "source": [
    "#주가 기본정보 불러오기\n",
    "Kospi_df = pd.read_csv('./kospi_code.csv')\n",
    "Kosdaq_df = pd.read_csv('./kosdaq_code.csv')\n",
    "kospi = Kospi_df.filter(items= ['단축코드','한글명'])\n",
    "kosdaq = Kosdaq_df.filter(items= ['단축코드','한글종목명'])"
   ]
  },
  {
   "cell_type": "code",
   "execution_count": 71,
   "metadata": {},
   "outputs": [],
   "source": [
    "#주가 종목코드 불러오기\n",
    "kospi = kospi.rename(columns={'단축코드':'stock_code','한글명' : 'stock_name'})\n",
    "kosdaq = kosdaq.rename(columns={'단축코드':'stock_code','한글종목명' : 'stock_name'})\n",
    "kospi_kosdaq = pd.concat([kospi,kosdaq])"
   ]
  },
  {
   "cell_type": "code",
   "execution_count": 72,
   "metadata": {},
   "outputs": [],
   "source": [
    "#종목 코드 합치기 1트\n",
    "stock = pd.merge(recommended_stock, kospi_kosdaq, how = 'left', on  = 'stock_name')"
   ]
  },
  {
   "cell_type": "code",
   "execution_count": 73,
   "metadata": {},
   "outputs": [],
   "source": [
    "#누락된NaN 버리기\n",
    "stock1 = stock.dropna()"
   ]
  },
  {
   "cell_type": "code",
   "execution_count": 74,
   "metadata": {},
   "outputs": [],
   "source": [
    "#누락된NaN 값들중 주울거 있는지 확인하기 \n",
    "stock2 = stock.drop(stock1.index,axis=0)\n",
    "stock2 = stock2.drop(['stock_code'],axis=1)"
   ]
  },
  {
   "cell_type": "code",
   "execution_count": 75,
   "metadata": {},
   "outputs": [],
   "source": [
    "#누락된 종목코드 찾기\n",
    "# exception = stock[stock.stock_code.isnull()]\n",
    "exception = stock.drop(stock1.index,axis=0)"
   ]
  },
  {
   "cell_type": "code",
   "execution_count": 36,
   "metadata": {},
   "outputs": [],
   "source": [
    "#파일로 저장\n",
    "#exception.to_csv('exception.csv', index=False, encoding='utf-8-sig')"
   ]
  },
  {
   "cell_type": "code",
   "execution_count": 76,
   "metadata": {},
   "outputs": [],
   "source": [
    "#파일불러오기\n",
    "exception = pd.read_csv('./exception.csv')"
   ]
  },
  {
   "cell_type": "code",
   "execution_count": 77,
   "metadata": {},
   "outputs": [],
   "source": [
    "#exception 정제\n",
    "exception = exception.dropna()\n",
    "exception['stock_code'] = exception.stock_code.apply(lambda x : str(int(x)).zfill(6))\n",
    "exception = exception.filter(items = ['stock_name','stock_code'])"
   ]
  },
  {
   "cell_type": "code",
   "execution_count": 78,
   "metadata": {},
   "outputs": [],
   "source": [
    "#종목 코드 합치기 2트\n",
    "stock2 = pd.merge(stock2, exception, how = 'left', on  = 'stock_name')\n",
    "stock2 = stock2.dropna()"
   ]
  },
  {
   "cell_type": "code",
   "execution_count": 79,
   "metadata": {},
   "outputs": [],
   "source": [
    "#최종 stock 가져오기 stock = stock1+stock2\n",
    "stock = pd.concat([stock1,stock2])\n",
    "stock = stock.sort_values(by=['date'], ascending=[True])\n",
    "stock = stock.reset_index(drop= True)"
   ]
  },
  {
   "cell_type": "code",
   "execution_count": 40,
   "metadata": {},
   "outputs": [],
   "source": [
    "#파일로 저장\n",
    "# stock.to_csv('recommend_stock.csv', index=False, encoding='utf-8-sig')\n",
    "#파일 불러오기\n",
    "stock = pd.read_csv('./recommend_stock.csv')"
   ]
  },
  {
   "cell_type": "code",
   "execution_count": 41,
   "metadata": {},
   "outputs": [
    {
     "data": {
      "text/html": [
       "<div>\n",
       "<style scoped>\n",
       "    .dataframe tbody tr th:only-of-type {\n",
       "        vertical-align: middle;\n",
       "    }\n",
       "\n",
       "    .dataframe tbody tr th {\n",
       "        vertical-align: top;\n",
       "    }\n",
       "\n",
       "    .dataframe thead th {\n",
       "        text-align: right;\n",
       "    }\n",
       "</style>\n",
       "<table border=\"1\" class=\"dataframe\">\n",
       "  <thead>\n",
       "    <tr style=\"text-align: right;\">\n",
       "      <th></th>\n",
       "      <th>date</th>\n",
       "      <th>stock_name</th>\n",
       "      <th>stock_code</th>\n",
       "    </tr>\n",
       "  </thead>\n",
       "  <tbody>\n",
       "    <tr>\n",
       "      <th>0</th>\n",
       "      <td>2019-10-29</td>\n",
       "      <td>알리코제약</td>\n",
       "      <td>260660</td>\n",
       "    </tr>\n",
       "    <tr>\n",
       "      <th>1</th>\n",
       "      <td>2019-10-29</td>\n",
       "      <td>KPX생명과학</td>\n",
       "      <td>114450</td>\n",
       "    </tr>\n",
       "    <tr>\n",
       "      <th>2</th>\n",
       "      <td>2019-10-29</td>\n",
       "      <td>제일바이오</td>\n",
       "      <td>052670</td>\n",
       "    </tr>\n",
       "    <tr>\n",
       "      <th>3</th>\n",
       "      <td>2019-10-30</td>\n",
       "      <td>아스타</td>\n",
       "      <td>246720</td>\n",
       "    </tr>\n",
       "    <tr>\n",
       "      <th>4</th>\n",
       "      <td>2019-10-30</td>\n",
       "      <td>SM</td>\n",
       "      <td>063440</td>\n",
       "    </tr>\n",
       "    <tr>\n",
       "      <th>...</th>\n",
       "      <td>...</td>\n",
       "      <td>...</td>\n",
       "      <td>...</td>\n",
       "    </tr>\n",
       "    <tr>\n",
       "      <th>977</th>\n",
       "      <td>2023-02-01</td>\n",
       "      <td>오픈베이스</td>\n",
       "      <td>049480</td>\n",
       "    </tr>\n",
       "    <tr>\n",
       "      <th>978</th>\n",
       "      <td>2023-02-01</td>\n",
       "      <td>일성건설</td>\n",
       "      <td>013360</td>\n",
       "    </tr>\n",
       "    <tr>\n",
       "      <th>979</th>\n",
       "      <td>2023-02-02</td>\n",
       "      <td>선익시스템</td>\n",
       "      <td>171090</td>\n",
       "    </tr>\n",
       "    <tr>\n",
       "      <th>980</th>\n",
       "      <td>2023-02-02</td>\n",
       "      <td>누리플렉스</td>\n",
       "      <td>040160</td>\n",
       "    </tr>\n",
       "    <tr>\n",
       "      <th>981</th>\n",
       "      <td>2023-02-06</td>\n",
       "      <td>KGETS</td>\n",
       "      <td>151860</td>\n",
       "    </tr>\n",
       "  </tbody>\n",
       "</table>\n",
       "<p>982 rows × 3 columns</p>\n",
       "</div>"
      ],
      "text/plain": [
       "           date stock_name stock_code\n",
       "0    2019-10-29      알리코제약     260660\n",
       "1    2019-10-29    KPX생명과학     114450\n",
       "2    2019-10-29      제일바이오     052670\n",
       "3    2019-10-30        아스타     246720\n",
       "4    2019-10-30         SM     063440\n",
       "..          ...        ...        ...\n",
       "977  2023-02-01      오픈베이스     049480\n",
       "978  2023-02-01       일성건설     013360\n",
       "979  2023-02-02      선익시스템     171090\n",
       "980  2023-02-02      누리플렉스     040160\n",
       "981  2023-02-06      KGETS     151860\n",
       "\n",
       "[982 rows x 3 columns]"
      ]
     },
     "execution_count": 41,
     "metadata": {},
     "output_type": "execute_result"
    }
   ],
   "source": [
    "stock"
   ]
  },
  {
   "cell_type": "code",
   "execution_count": 4,
   "metadata": {},
   "outputs": [],
   "source": [
    "stock['strdate'] = stock.date.apply(lambda x: re.sub(\"-\",\"\",x))"
   ]
  },
  {
   "cell_type": "code",
   "execution_count": 2,
   "metadata": {},
   "outputs": [],
   "source": [
    "#한국투자 API 보안 인증키 발급 \n",
    "APP_KEY = \"PSDbkNNrIX3j60cW2MEFnBGZDZ1BzpgDxvC0\"\n",
    "APP_SECRET = \"QfaZRX24K15ojO4yjG5o5dM+SUvJT4PYiK+tKKzgikyhmfrnTXoxOwn9rCf2hzXdtOhh4v3/O4bSFfQgS+u6ojdb6KgWuyub4GRraoWYaJTJyHSRqWUPab2GiCvrI/aIjx5S925MohrETq0k/eopFHgMInG0lmZdAh5TaegaZ1NDpNvPW8Y=\"\n",
    "URL_BASE = \"https://openapi.koreainvestment.com:9443\"\n",
    "PATH = \"oauth2/tokenP\"\n",
    "URL = f\"{URL_BASE}/{PATH}\"\n",
    "\n",
    "headers = {\"content-type\":\"application/json\"}\n",
    "body = {\"grant_type\":\"client_credentials\",\n",
    "        \"appkey\":APP_KEY, \n",
    "        \"appsecret\":APP_SECRET}\n",
    "\n",
    "res = requests.post(URL, headers=headers, data=json.dumps(body))\n",
    "ACCESS_TOKEN = res.json()[\"access_token\"]"
   ]
  },
  {
   "cell_type": "code",
   "execution_count": 22,
   "metadata": {},
   "outputs": [],
   "source": [
    "#현재가 가져오기 \n",
    "def get_info_from_kisapi(stock_code,date):\n",
    "    URL = 'https://openapi.koreainvestment.com:9443/uapi/domestic-stock/v1/quotations/inquire-daily-itemchartprice'\n",
    "\n",
    "    headers = {\"Content-Type\":\"application/json\", \n",
    "            \"authorization\": f\"Bearer {ACCESS_TOKEN}\",\n",
    "            \"appKey\":APP_KEY,\n",
    "            \"appSecret\":APP_SECRET,\n",
    "            \"tr_id\":\"FHKST03010100\"\n",
    "            }\n",
    "\n",
    "    params = {\n",
    "        \"FID_COND_MRKT_DIV_CODE\":\"J\",\n",
    "        \"FID_INPUT_ISCD\":stock_code,\n",
    "        \"FID_INPUT_DATE_1\" : date,\n",
    "        \"FID_INPUT_DATE_2\" : date,\n",
    "        \"FID_PERIOD_DIV_CODE\" : \"D\",\n",
    "        \"FID_ORG_ADJ_PRC\" : \"1\"\n",
    "    }\n",
    "\n",
    "    res = requests.get(URL, headers=headers, params=params)\n",
    "    stck_oprc = res.json().get('output2')[0].get('stck_oprc')\n",
    "    \n",
    "    return stck_oprc"
   ]
  },
  {
   "cell_type": "code",
   "execution_count": 15,
   "metadata": {},
   "outputs": [],
   "source": [
    "#개장일 계산기\n",
    "def checking_tr_day(date):\n",
    "    URL = 'https://openapi.koreainvestment.com:9443/uapi/domestic-stock/v1/quotations/inquire-daily-itemchartprice'\n",
    "\n",
    "    headers = {\"Content-Type\":\"application/json\", \n",
    "        \"authorization\": f\"Bearer {ACCESS_TOKEN}\",\n",
    "        \"appKey\":APP_KEY,\n",
    "        \"appSecret\":APP_SECRET,\n",
    "        \"tr_id\":\"CTCA0903R\"\n",
    "        }\n",
    "\n",
    "    params = {\n",
    "    \"BASS_DT\": date,\n",
    "    \"CTX_AREA_NK\":\"\",\n",
    "    \"CTX_AREA_FK\":\"\"\n",
    "    }\n",
    "\n",
    "    res = requests.get(URL, headers=headers, params=params)\n",
    "    return res\n"
   ]
  },
  {
   "cell_type": "code",
   "execution_count": 37,
   "metadata": {},
   "outputs": [],
   "source": [
    "date = pd.date_range('20180101', '20230217')\n",
    "date = date.strftime(\"%Y%m%d\")"
   ]
  },
  {
   "cell_type": "code",
   "execution_count": 39,
   "metadata": {},
   "outputs": [],
   "source": [
    "df_krx = fdr.StockListing('KRX')"
   ]
  },
  {
   "cell_type": "code",
   "execution_count": 42,
   "metadata": {},
   "outputs": [],
   "source": [
    "stock['date'] = stock.date.apply(lambda x : re.sub(\"-\",\".\",x))\n",
    "stock['date']= stock['date'].astype('str')\n",
    "stock['date'] = stock.date.apply(lambda x : datetime.strptime(x,'%Y.%m.%d'))\n"
   ]
  },
  {
   "cell_type": "code",
   "execution_count": 44,
   "metadata": {},
   "outputs": [
    {
     "data": {
      "text/html": [
       "<div>\n",
       "<style scoped>\n",
       "    .dataframe tbody tr th:only-of-type {\n",
       "        vertical-align: middle;\n",
       "    }\n",
       "\n",
       "    .dataframe tbody tr th {\n",
       "        vertical-align: top;\n",
       "    }\n",
       "\n",
       "    .dataframe thead th {\n",
       "        text-align: right;\n",
       "    }\n",
       "</style>\n",
       "<table border=\"1\" class=\"dataframe\">\n",
       "  <thead>\n",
       "    <tr style=\"text-align: right;\">\n",
       "      <th></th>\n",
       "      <th>date</th>\n",
       "      <th>stock_name</th>\n",
       "      <th>stock_code</th>\n",
       "    </tr>\n",
       "  </thead>\n",
       "  <tbody>\n",
       "    <tr>\n",
       "      <th>0</th>\n",
       "      <td>2019-10-29</td>\n",
       "      <td>알리코제약</td>\n",
       "      <td>260660</td>\n",
       "    </tr>\n",
       "    <tr>\n",
       "      <th>1</th>\n",
       "      <td>2019-10-29</td>\n",
       "      <td>KPX생명과학</td>\n",
       "      <td>114450</td>\n",
       "    </tr>\n",
       "    <tr>\n",
       "      <th>2</th>\n",
       "      <td>2019-10-29</td>\n",
       "      <td>제일바이오</td>\n",
       "      <td>052670</td>\n",
       "    </tr>\n",
       "    <tr>\n",
       "      <th>3</th>\n",
       "      <td>2019-10-30</td>\n",
       "      <td>아스타</td>\n",
       "      <td>246720</td>\n",
       "    </tr>\n",
       "    <tr>\n",
       "      <th>4</th>\n",
       "      <td>2019-10-30</td>\n",
       "      <td>SM</td>\n",
       "      <td>063440</td>\n",
       "    </tr>\n",
       "    <tr>\n",
       "      <th>...</th>\n",
       "      <td>...</td>\n",
       "      <td>...</td>\n",
       "      <td>...</td>\n",
       "    </tr>\n",
       "    <tr>\n",
       "      <th>977</th>\n",
       "      <td>2023-02-01</td>\n",
       "      <td>오픈베이스</td>\n",
       "      <td>049480</td>\n",
       "    </tr>\n",
       "    <tr>\n",
       "      <th>978</th>\n",
       "      <td>2023-02-01</td>\n",
       "      <td>일성건설</td>\n",
       "      <td>013360</td>\n",
       "    </tr>\n",
       "    <tr>\n",
       "      <th>979</th>\n",
       "      <td>2023-02-02</td>\n",
       "      <td>선익시스템</td>\n",
       "      <td>171090</td>\n",
       "    </tr>\n",
       "    <tr>\n",
       "      <th>980</th>\n",
       "      <td>2023-02-02</td>\n",
       "      <td>누리플렉스</td>\n",
       "      <td>040160</td>\n",
       "    </tr>\n",
       "    <tr>\n",
       "      <th>981</th>\n",
       "      <td>2023-02-06</td>\n",
       "      <td>KGETS</td>\n",
       "      <td>151860</td>\n",
       "    </tr>\n",
       "  </tbody>\n",
       "</table>\n",
       "<p>982 rows × 3 columns</p>\n",
       "</div>"
      ],
      "text/plain": [
       "          date stock_name stock_code\n",
       "0   2019-10-29      알리코제약     260660\n",
       "1   2019-10-29    KPX생명과학     114450\n",
       "2   2019-10-29      제일바이오     052670\n",
       "3   2019-10-30        아스타     246720\n",
       "4   2019-10-30         SM     063440\n",
       "..         ...        ...        ...\n",
       "977 2023-02-01      오픈베이스     049480\n",
       "978 2023-02-01       일성건설     013360\n",
       "979 2023-02-02      선익시스템     171090\n",
       "980 2023-02-02      누리플렉스     040160\n",
       "981 2023-02-06      KGETS     151860\n",
       "\n",
       "[982 rows x 3 columns]"
      ]
     },
     "execution_count": 44,
     "metadata": {},
     "output_type": "execute_result"
    }
   ],
   "source": [
    "stock"
   ]
  },
  {
   "cell_type": "code",
   "execution_count": 61,
   "metadata": {},
   "outputs": [],
   "source": [
    "date = pd.date_range(end = stock.date[0],periods=10)\n",
    "date = date.strftime(\"%Y.%m.%d\")\n",
    "date2 = date[0]\n",
    "date3= date[-1]"
   ]
  },
  {
   "cell_type": "code",
   "execution_count": 63,
   "metadata": {},
   "outputs": [
    {
     "data": {
      "text/plain": [
       "'2019.10.20'"
      ]
     },
     "execution_count": 63,
     "metadata": {},
     "output_type": "execute_result"
    }
   ],
   "source": [
    "date2"
   ]
  },
  {
   "cell_type": "code",
   "execution_count": 64,
   "metadata": {},
   "outputs": [],
   "source": [
    "stock_price = fdr.DataReader(stock.stock_code[0], date2, date3)\n"
   ]
  },
  {
   "cell_type": "code",
   "execution_count": 83,
   "metadata": {},
   "outputs": [
    {
     "data": {
      "text/html": [
       "<div>\n",
       "<style scoped>\n",
       "    .dataframe tbody tr th:only-of-type {\n",
       "        vertical-align: middle;\n",
       "    }\n",
       "\n",
       "    .dataframe tbody tr th {\n",
       "        vertical-align: top;\n",
       "    }\n",
       "\n",
       "    .dataframe thead th {\n",
       "        text-align: right;\n",
       "    }\n",
       "</style>\n",
       "<table border=\"1\" class=\"dataframe\">\n",
       "  <thead>\n",
       "    <tr style=\"text-align: right;\">\n",
       "      <th></th>\n",
       "      <th>Close</th>\n",
       "      <th>Volume</th>\n",
       "    </tr>\n",
       "    <tr>\n",
       "      <th>Date</th>\n",
       "      <th></th>\n",
       "      <th></th>\n",
       "    </tr>\n",
       "  </thead>\n",
       "  <tbody>\n",
       "    <tr>\n",
       "      <th>2019-10-23</th>\n",
       "      <td>8376</td>\n",
       "      <td>1510701</td>\n",
       "    </tr>\n",
       "    <tr>\n",
       "      <th>2019-10-24</th>\n",
       "      <td>7958</td>\n",
       "      <td>383465</td>\n",
       "    </tr>\n",
       "    <tr>\n",
       "      <th>2019-10-25</th>\n",
       "      <td>7606</td>\n",
       "      <td>190690</td>\n",
       "    </tr>\n",
       "    <tr>\n",
       "      <th>2019-10-28</th>\n",
       "      <td>7830</td>\n",
       "      <td>2999561</td>\n",
       "    </tr>\n",
       "  </tbody>\n",
       "</table>\n",
       "</div>"
      ],
      "text/plain": [
       "            Close   Volume\n",
       "Date                      \n",
       "2019-10-23   8376  1510701\n",
       "2019-10-24   7958   383465\n",
       "2019-10-25   7606   190690\n",
       "2019-10-28   7830  2999561"
      ]
     },
     "execution_count": 83,
     "metadata": {},
     "output_type": "execute_result"
    }
   ],
   "source": [
    "stock_price.iloc[-5:-1,:].filter(items = ['Close','Volume'])"
   ]
  },
  {
   "cell_type": "code",
   "execution_count": 87,
   "metadata": {},
   "outputs": [
    {
     "data": {
      "text/html": [
       "<div>\n",
       "<style scoped>\n",
       "    .dataframe tbody tr th:only-of-type {\n",
       "        vertical-align: middle;\n",
       "    }\n",
       "\n",
       "    .dataframe tbody tr th {\n",
       "        vertical-align: top;\n",
       "    }\n",
       "\n",
       "    .dataframe thead th {\n",
       "        text-align: right;\n",
       "    }\n",
       "</style>\n",
       "<table border=\"1\" class=\"dataframe\">\n",
       "  <thead>\n",
       "    <tr style=\"text-align: right;\">\n",
       "      <th></th>\n",
       "      <th>Open</th>\n",
       "      <th>Volume</th>\n",
       "    </tr>\n",
       "    <tr>\n",
       "      <th>Date</th>\n",
       "      <th></th>\n",
       "      <th></th>\n",
       "    </tr>\n",
       "  </thead>\n",
       "  <tbody>\n",
       "    <tr>\n",
       "      <th>2019-10-29</th>\n",
       "      <td>8599</td>\n",
       "      <td>7971137</td>\n",
       "    </tr>\n",
       "  </tbody>\n",
       "</table>\n",
       "</div>"
      ],
      "text/plain": [
       "            Open   Volume\n",
       "Date                     \n",
       "2019-10-29  8599  7971137"
      ]
     },
     "execution_count": 87,
     "metadata": {},
     "output_type": "execute_result"
    }
   ],
   "source": [
    "stock_price.iloc[-1:,:].filter(items = ['Open','Volume'])"
   ]
  }
 ],
 "metadata": {
  "kernelspec": {
   "display_name": "base",
   "language": "python",
   "name": "python3"
  },
  "language_info": {
   "codemirror_mode": {
    "name": "ipython",
    "version": 3
   },
   "file_extension": ".py",
   "mimetype": "text/x-python",
   "name": "python",
   "nbconvert_exporter": "python",
   "pygments_lexer": "ipython3",
   "version": "3.9.13"
  },
  "orig_nbformat": 4,
  "vscode": {
   "interpreter": {
    "hash": "610a6f344c2137faf927ea819c63f6cee33a2c04455044b28099f39fe9722347"
   }
  }
 },
 "nbformat": 4,
 "nbformat_minor": 2
}
