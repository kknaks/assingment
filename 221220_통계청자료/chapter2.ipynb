{
 "cells": [
  {
   "cell_type": "code",
   "execution_count": 1,
   "metadata": {},
   "outputs": [],
   "source": [
    "from pandas.io.json import json_normalize\n",
    "import pandas as pd\n",
    "import requests"
   ]
  },
  {
   "cell_type": "code",
   "execution_count": 2,
   "metadata": {},
   "outputs": [],
   "source": [
    "url =\"https://kosis.kr/openapi/Param/statisticsParameterData.do?method=getList&apiKey=NTk5YmQwYmUyNmVkMmJlZjRlZjA4NjY1NjE4ZmJlYjE=&itmId=T1+&objL1=A.001+&objL2=ALL&objL3=&objL4=&objL5=&objL6=&objL7=&objL8=&format=json&jsonVD=Y&prdSe=Y&newEstPrdCnt=9&orgId=798&tblId=DT_79801_A005\"\n",
    "response = requests.get(url)\n",
    "result = response.json()"
   ]
  },
  {
   "cell_type": "code",
   "execution_count": 127,
   "metadata": {},
   "outputs": [
    {
     "data": {
      "text/plain": [
       "{'TBL_NM': '기상개황',\n",
       " 'PRD_DE': '2012',\n",
       " 'TBL_ID': 'DT_79801_A005',\n",
       " 'ITM_NM': '기상개황',\n",
       " 'ITM_ID': 'T1',\n",
       " 'ORG_ID': '798',\n",
       " 'C1_OBJ_NM': '월별',\n",
       " 'C2_OBJ_NM': '구분별',\n",
       " 'DT': '13.4',\n",
       " 'C2': 'B.001001',\n",
       " 'PRD_SE': 'A',\n",
       " 'C1': 'A.001',\n",
       " 'C1_NM': '합계',\n",
       " 'C2_NM': '평균'}"
      ]
     },
     "execution_count": 127,
     "metadata": {},
     "output_type": "execute_result"
    }
   ],
   "source": [
    "result[0]"
   ]
  },
  {
   "cell_type": "code",
   "execution_count": 128,
   "metadata": {},
   "outputs": [
    {
     "name": "stdout",
     "output_type": "stream",
     "text": [
      "일조시간\n",
      "일조시간\n",
      "일조시간\n",
      "일조시간\n",
      "일조시간\n",
      "일조시간\n",
      "최심신적설\n",
      "최심신적설\n",
      "최심신적설\n",
      "최심신적설\n",
      "최심신적설\n",
      "평균풍속\n",
      "평균풍속\n",
      "평균풍속\n",
      "평균풍속\n",
      "평균풍속\n",
      "평균풍속\n",
      "평균풍속\n",
      "평균풍속\n",
      "평균풍속\n",
      "최대풍속\n",
      "최대풍속\n",
      "최대풍속\n",
      "최대풍속\n",
      "최대풍속\n",
      "최대풍속\n",
      "최대풍속\n",
      "최대풍속\n",
      "최대풍속\n",
      "최대순간풍속\n",
      "최대순간풍속\n",
      "최대순간풍속\n",
      "최대순간풍속\n",
      "최대순간풍속\n",
      "최대순간풍속\n",
      "최대순간풍속\n",
      "최대순간풍속\n",
      "최대순간풍속\n"
     ]
    },
    {
     "ename": "IndexError",
     "evalue": "list index out of range",
     "output_type": "error",
     "traceback": [
      "\u001b[1;31m---------------------------------------------------------------------------\u001b[0m",
      "\u001b[1;31mIndexError\u001b[0m                                Traceback (most recent call last)",
      "\u001b[1;32m~\\AppData\\Local\\Temp\\ipykernel_137784\\115982881.py\u001b[0m in \u001b[0;36m<module>\u001b[1;34m\u001b[0m\n\u001b[0;32m      1\u001b[0m \u001b[1;32mfor\u001b[0m \u001b[0mi\u001b[0m \u001b[1;32min\u001b[0m \u001b[0mrange\u001b[0m\u001b[1;33m(\u001b[0m\u001b[1;36m99\u001b[0m\u001b[1;33m,\u001b[0m\u001b[1;36m150\u001b[0m\u001b[1;33m)\u001b[0m\u001b[1;33m:\u001b[0m\u001b[1;33m\u001b[0m\u001b[1;33m\u001b[0m\u001b[0m\n\u001b[1;32m----> 2\u001b[1;33m     \u001b[0mprint\u001b[0m\u001b[1;33m(\u001b[0m\u001b[0mresult\u001b[0m\u001b[1;33m[\u001b[0m\u001b[0mi\u001b[0m\u001b[1;33m]\u001b[0m\u001b[1;33m.\u001b[0m\u001b[0mget\u001b[0m\u001b[1;33m(\u001b[0m\u001b[1;34m'C2_NM'\u001b[0m\u001b[1;33m)\u001b[0m\u001b[1;33m)\u001b[0m\u001b[1;33m\u001b[0m\u001b[1;33m\u001b[0m\u001b[0m\n\u001b[0m",
      "\u001b[1;31mIndexError\u001b[0m: list index out of range"
     ]
    }
   ],
   "source": [
    "for i in range(99,150):\n",
    "    print(result[i].get('C2_NM'))"
   ]
  },
  {
   "cell_type": "code",
   "execution_count": 129,
   "metadata": {},
   "outputs": [],
   "source": [
    "a = []\n",
    "for name in result:\n",
    "    value = name.get('C2_NM')\n",
    "    a.append(value)\n",
    "count = len(set(a))\n",
    "\n",
    "data= pd.DataFrame()\n",
    "start = 0 \n",
    "end = 0 \n",
    "for i in range(1,11):\n",
    "    dddd = []\n",
    "    while a[start] == a[end]:\n",
    "        year = result[end].get('PRD_DE')\n",
    "        name = result[end].get('C2_NM')\n",
    "        value = result[end].get('DT')   \n",
    "        dddd.append(value)\n",
    "        end+=1\n",
    "    data[name] = dddd\n",
    "    start = end\n",
    "    \n",
    "    \n",
    "\n"
   ]
  },
  {
   "cell_type": "code",
   "execution_count": 110,
   "metadata": {},
   "outputs": [
    {
     "data": {
      "text/plain": [
       "15"
      ]
     },
     "execution_count": 110,
     "metadata": {},
     "output_type": "execute_result"
    }
   ],
   "source": [
    "count"
   ]
  },
  {
   "cell_type": "code",
   "execution_count": 5,
   "metadata": {},
   "outputs": [
    {
     "name": "stderr",
     "output_type": "stream",
     "text": [
      "C:\\Users\\admin\\AppData\\Local\\Temp\\ipykernel_115792\\2517087719.py:10: FutureWarning: The frame.append method is deprecated and will be removed from pandas in a future version. Use pandas.concat instead.\n",
      "  kosis = kosis.append(pd.DataFrame(temp, index = [0]))\n",
      "C:\\Users\\admin\\AppData\\Local\\Temp\\ipykernel_115792\\2517087719.py:10: FutureWarning: The frame.append method is deprecated and will be removed from pandas in a future version. Use pandas.concat instead.\n",
      "  kosis = kosis.append(pd.DataFrame(temp, index = [0]))\n",
      "C:\\Users\\admin\\AppData\\Local\\Temp\\ipykernel_115792\\2517087719.py:10: FutureWarning: The frame.append method is deprecated and will be removed from pandas in a future version. Use pandas.concat instead.\n",
      "  kosis = kosis.append(pd.DataFrame(temp, index = [0]))\n",
      "C:\\Users\\admin\\AppData\\Local\\Temp\\ipykernel_115792\\2517087719.py:10: FutureWarning: The frame.append method is deprecated and will be removed from pandas in a future version. Use pandas.concat instead.\n",
      "  kosis = kosis.append(pd.DataFrame(temp, index = [0]))\n",
      "C:\\Users\\admin\\AppData\\Local\\Temp\\ipykernel_115792\\2517087719.py:10: FutureWarning: The frame.append method is deprecated and will be removed from pandas in a future version. Use pandas.concat instead.\n",
      "  kosis = kosis.append(pd.DataFrame(temp, index = [0]))\n",
      "C:\\Users\\admin\\AppData\\Local\\Temp\\ipykernel_115792\\2517087719.py:10: FutureWarning: The frame.append method is deprecated and will be removed from pandas in a future version. Use pandas.concat instead.\n",
      "  kosis = kosis.append(pd.DataFrame(temp, index = [0]))\n",
      "C:\\Users\\admin\\AppData\\Local\\Temp\\ipykernel_115792\\2517087719.py:10: FutureWarning: The frame.append method is deprecated and will be removed from pandas in a future version. Use pandas.concat instead.\n",
      "  kosis = kosis.append(pd.DataFrame(temp, index = [0]))\n",
      "C:\\Users\\admin\\AppData\\Local\\Temp\\ipykernel_115792\\2517087719.py:10: FutureWarning: The frame.append method is deprecated and will be removed from pandas in a future version. Use pandas.concat instead.\n",
      "  kosis = kosis.append(pd.DataFrame(temp, index = [0]))\n",
      "C:\\Users\\admin\\AppData\\Local\\Temp\\ipykernel_115792\\2517087719.py:10: FutureWarning: The frame.append method is deprecated and will be removed from pandas in a future version. Use pandas.concat instead.\n",
      "  kosis = kosis.append(pd.DataFrame(temp, index = [0]))\n"
     ]
    }
   ],
   "source": [
    "kosis = pd.DataFrame()\n",
    "for i in result[0:9]:\n",
    "    year = i.get('PRD_DE')\n",
    "    name = i.get('C2_NM')\n",
    "    value = i.get('DT')\n",
    "    temp = {\n",
    "        \"년도\" : year,\n",
    "        name : value,}\n",
    "    \n",
    "    kosis = kosis.append(pd.DataFrame(temp, index = [0]))\n",
    "    "
   ]
  },
  {
   "cell_type": "code",
   "execution_count": 7,
   "metadata": {},
   "outputs": [],
   "source": [
    "kosis2 = []\n",
    "for i in result[9:18]:\n",
    "    year = i.get('PRD_DE')\n",
    "    name = i.get('C2_NM')\n",
    "    value = i.get('DT')\n",
    "    \n",
    "    kosis2.append(value)"
   ]
  }
 ],
 "metadata": {
  "kernelspec": {
   "display_name": "base",
   "language": "python",
   "name": "python3"
  },
  "language_info": {
   "codemirror_mode": {
    "name": "ipython",
    "version": 3
   },
   "file_extension": ".py",
   "mimetype": "text/x-python",
   "name": "python",
   "nbconvert_exporter": "python",
   "pygments_lexer": "ipython3",
   "version": "3.9.13"
  },
  "orig_nbformat": 4,
  "vscode": {
   "interpreter": {
    "hash": "ad2bdc8ecc057115af97d19610ffacc2b4e99fae6737bb82f5d7fb13d2f2c186"
   }
  }
 },
 "nbformat": 4,
 "nbformat_minor": 2
}
