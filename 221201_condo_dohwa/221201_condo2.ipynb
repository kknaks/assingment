{
 "cells": [
  {
   "cell_type": "code",
   "execution_count": 5,
   "metadata": {},
   "outputs": [
    {
     "name": "stderr",
     "output_type": "stream",
     "text": [
      "C:\\Users\\admin\\AppData\\Local\\Temp\\ipykernel_36944\\1809207170.py:7: DeprecationWarning: executable_path has been deprecated, please pass in a Service object\n",
      "  driver = webdriver.Chrome(executable_path='./utils/chromedriver') # executable_path: chromedriver path\n"
     ]
    }
   ],
   "source": [
    "from selenium import webdriver\n",
    "from selenium.webdriver.common.by import By\n",
    "from selenium.webdriver.support.ui import WebDriverWait\n",
    "from selenium.webdriver.support import expected_conditions as EC\n",
    "from selenium.webdriver.common.alert import Alert\n",
    "\n",
    "driver = webdriver.Chrome(executable_path='./utils/chromedriver') # executable_path: chromedriver path"
   ]
  },
  {
   "cell_type": "code",
   "execution_count": 6,
   "metadata": {},
   "outputs": [],
   "source": [
    "driver.get(url = 'https://gw.dohwa.co.kr/ekp/view/login/userLogin#')\n",
    "driver.maximize_window()"
   ]
  },
  {
   "cell_type": "code",
   "execution_count": 4,
   "metadata": {},
   "outputs": [
    {
     "ename": "NoSuchWindowException",
     "evalue": "Message: no such window: target window already closed\nfrom unknown error: web view not found\n  (Session info: chrome=108.0.5359.125)\nStacktrace:\nBacktrace:\n\t(No symbol) [0x00B1F243]\n\t(No symbol) [0x00AA7FD1]\n\t(No symbol) [0x0099D04D]\n\t(No symbol) [0x00982D7A]\n\t(No symbol) [0x009EBE7B]\n\t(No symbol) [0x009FC196]\n\t(No symbol) [0x009E8386]\n\t(No symbol) [0x009C163C]\n\t(No symbol) [0x009C269D]\n\tGetHandleVerifier [0x00DB9A22+2655074]\n\tGetHandleVerifier [0x00DACA24+2601828]\n\tGetHandleVerifier [0x00BC8C0A+619850]\n\tGetHandleVerifier [0x00BC7830+614768]\n\t(No symbol) [0x00AB05FC]\n\t(No symbol) [0x00AB5968]\n\t(No symbol) [0x00AB5A55]\n\t(No symbol) [0x00AC051B]\n\tBaseThreadInitThunk [0x76716739+25]\n\tRtlGetFullPathName_UEx [0x77C28FD2+1218]\n\tRtlGetFullPathName_UEx [0x77C28F9D+1165]\n",
     "output_type": "error",
     "traceback": [
      "\u001b[1;31m---------------------------------------------------------------------------\u001b[0m",
      "\u001b[1;31mNoSuchWindowException\u001b[0m                     Traceback (most recent call last)",
      "Cell \u001b[1;32mIn[4], line 1\u001b[0m\n\u001b[1;32m----> 1\u001b[0m driver\u001b[39m.\u001b[39;49mmaximize_window()\n",
      "File \u001b[1;32mc:\\Users\\admin\\AppData\\Local\\Programs\\Python\\Python311\\Lib\\site-packages\\selenium\\webdriver\\remote\\webdriver.py:607\u001b[0m, in \u001b[0;36mWebDriver.maximize_window\u001b[1;34m(self)\u001b[0m\n\u001b[0;32m    603\u001b[0m \u001b[39m\"\"\"\u001b[39;00m\n\u001b[0;32m    604\u001b[0m \u001b[39mMaximizes the current window that webdriver is using\u001b[39;00m\n\u001b[0;32m    605\u001b[0m \u001b[39m\"\"\"\u001b[39;00m\n\u001b[0;32m    606\u001b[0m command \u001b[39m=\u001b[39m Command\u001b[39m.\u001b[39mW3C_MAXIMIZE_WINDOW\n\u001b[1;32m--> 607\u001b[0m \u001b[39mself\u001b[39;49m\u001b[39m.\u001b[39;49mexecute(command, \u001b[39mNone\u001b[39;49;00m)\n",
      "File \u001b[1;32mc:\\Users\\admin\\AppData\\Local\\Programs\\Python\\Python311\\Lib\\site-packages\\selenium\\webdriver\\remote\\webdriver.py:444\u001b[0m, in \u001b[0;36mWebDriver.execute\u001b[1;34m(self, driver_command, params)\u001b[0m\n\u001b[0;32m    442\u001b[0m response \u001b[39m=\u001b[39m \u001b[39mself\u001b[39m\u001b[39m.\u001b[39mcommand_executor\u001b[39m.\u001b[39mexecute(driver_command, params)\n\u001b[0;32m    443\u001b[0m \u001b[39mif\u001b[39;00m response:\n\u001b[1;32m--> 444\u001b[0m     \u001b[39mself\u001b[39;49m\u001b[39m.\u001b[39;49merror_handler\u001b[39m.\u001b[39;49mcheck_response(response)\n\u001b[0;32m    445\u001b[0m     response[\u001b[39m\"\u001b[39m\u001b[39mvalue\u001b[39m\u001b[39m\"\u001b[39m] \u001b[39m=\u001b[39m \u001b[39mself\u001b[39m\u001b[39m.\u001b[39m_unwrap_value(response\u001b[39m.\u001b[39mget(\u001b[39m\"\u001b[39m\u001b[39mvalue\u001b[39m\u001b[39m\"\u001b[39m, \u001b[39mNone\u001b[39;00m))\n\u001b[0;32m    446\u001b[0m     \u001b[39mreturn\u001b[39;00m response\n",
      "File \u001b[1;32mc:\\Users\\admin\\AppData\\Local\\Programs\\Python\\Python311\\Lib\\site-packages\\selenium\\webdriver\\remote\\errorhandler.py:249\u001b[0m, in \u001b[0;36mErrorHandler.check_response\u001b[1;34m(self, response)\u001b[0m\n\u001b[0;32m    247\u001b[0m         alert_text \u001b[39m=\u001b[39m value[\u001b[39m\"\u001b[39m\u001b[39malert\u001b[39m\u001b[39m\"\u001b[39m]\u001b[39m.\u001b[39mget(\u001b[39m\"\u001b[39m\u001b[39mtext\u001b[39m\u001b[39m\"\u001b[39m)\n\u001b[0;32m    248\u001b[0m     \u001b[39mraise\u001b[39;00m exception_class(message, screen, stacktrace, alert_text)  \u001b[39m# type: ignore[call-arg]  # mypy is not smart enough here\u001b[39;00m\n\u001b[1;32m--> 249\u001b[0m \u001b[39mraise\u001b[39;00m exception_class(message, screen, stacktrace)\n",
      "\u001b[1;31mNoSuchWindowException\u001b[0m: Message: no such window: target window already closed\nfrom unknown error: web view not found\n  (Session info: chrome=108.0.5359.125)\nStacktrace:\nBacktrace:\n\t(No symbol) [0x00B1F243]\n\t(No symbol) [0x00AA7FD1]\n\t(No symbol) [0x0099D04D]\n\t(No symbol) [0x00982D7A]\n\t(No symbol) [0x009EBE7B]\n\t(No symbol) [0x009FC196]\n\t(No symbol) [0x009E8386]\n\t(No symbol) [0x009C163C]\n\t(No symbol) [0x009C269D]\n\tGetHandleVerifier [0x00DB9A22+2655074]\n\tGetHandleVerifier [0x00DACA24+2601828]\n\tGetHandleVerifier [0x00BC8C0A+619850]\n\tGetHandleVerifier [0x00BC7830+614768]\n\t(No symbol) [0x00AB05FC]\n\t(No symbol) [0x00AB5968]\n\t(No symbol) [0x00AB5A55]\n\t(No symbol) [0x00AC051B]\n\tBaseThreadInitThunk [0x76716739+25]\n\tRtlGetFullPathName_UEx [0x77C28FD2+1218]\n\tRtlGetFullPathName_UEx [0x77C28F9D+1165]\n"
     ]
    }
   ],
   "source": [
    "driver.maximize_window()"
   ]
  },
  {
   "cell_type": "code",
   "execution_count": 3,
   "metadata": {},
   "outputs": [],
   "source": [
    "(\n",
    "    driver.find_element(\n",
    "        By.XPATH, \n",
    "        '/html/body/div[1]/div/div[2]/div[2]/div[2]/fieldset/div[1]/dl[3]/dd[1]/span/input'\n",
    "        ).send_keys('221009')\n",
    ")"
   ]
  },
  {
   "cell_type": "code",
   "execution_count": 4,
   "metadata": {},
   "outputs": [],
   "source": [
    "(\n",
    "    driver.find_element(\n",
    "        By.XPATH, \n",
    "        '/html/body/div[1]/div/div[2]/div[2]/div[2]/fieldset/div[1]/dl[3]/dd[2]/div/input'\n",
    "        ).send_keys('rjskr03#')\n",
    ")"
   ]
  },
  {
   "cell_type": "code",
   "execution_count": 5,
   "metadata": {},
   "outputs": [],
   "source": [
    "(\n",
    "    driver.find_element(\n",
    "        By.XPATH, \n",
    "        '/html/body/div[1]/div/div[2]/div[2]/div[2]/fieldset/div[1]/div/button'\n",
    "        ).click()\n",
    ")"
   ]
  },
  {
   "cell_type": "code",
   "execution_count": 6,
   "metadata": {},
   "outputs": [],
   "source": [
    "#웨이팅 필요\n",
    "\n",
    "da = Alert(driver)\n",
    "da.accept()"
   ]
  },
  {
   "cell_type": "code",
   "execution_count": 7,
   "metadata": {},
   "outputs": [],
   "source": [
    "#웨이팅 필요\n",
    "(\n",
    "    driver.find_element(\n",
    "        By.XPATH, \n",
    "        '/html/body/div[1]/div[1]/div[2]/div[1]/div[2]/ul/li[7]/a'\n",
    "        ).click()\n",
    ")"
   ]
  },
  {
   "cell_type": "code",
   "execution_count": 19,
   "metadata": {},
   "outputs": [],
   "source": [
    "driver.switch_to.frame('subBody')"
   ]
  },
  {
   "cell_type": "code",
   "execution_count": 20,
   "metadata": {},
   "outputs": [],
   "source": [
    "(\n",
    "    driver.find_element(\n",
    "        By.XPATH, \n",
    "        '/html/body/div/div/div/div[1]/div[2]/div[3]/ul/li[2]/div/a'\n",
    "        ).click()\n",
    ")"
   ]
  },
  {
   "cell_type": "code",
   "execution_count": 6,
   "metadata": {},
   "outputs": [
    {
     "name": "stderr",
     "output_type": "stream",
     "text": [
      "C:\\Users\\admin\\AppData\\Local\\Temp\\ipykernel_20300\\1357943733.py:7: DeprecationWarning: executable_path has been deprecated, please pass in a Service object\n",
      "  driver = webdriver.Chrome(executable_path='./utils/chromedriver') # executable_path: chromedriver path\n"
     ]
    }
   ],
   "source": [
    "from selenium import webdriver\n",
    "from selenium.webdriver.common.by import By\n",
    "from selenium.webdriver.support.ui import WebDriverWait\n",
    "from selenium.webdriver.support import expected_conditions as EC\n",
    "from selenium.webdriver.common.alert import Alert\n",
    "from time import sleep\n",
    "driver = webdriver.Chrome(executable_path='./utils/chromedriver') # executable_path: chromedriver path\n",
    "\n",
    "driver.get(url = 'https://gw.dohwa.co.kr/ekp/view/login/userLogin#')\n",
    "driver.maximize_window()\n",
    "\n",
    "(\n",
    "    driver.find_element(\n",
    "        By.XPATH, \n",
    "        '/html/body/div[1]/div/div[2]/div[2]/div[2]/fieldset/div[1]/dl[3]/dd[1]/span/input'\n",
    "        ).send_keys('221009')\n",
    ")\n",
    "\n",
    "(\n",
    "    driver.find_element(\n",
    "        By.XPATH, \n",
    "        '/html/body/div[1]/div/div[2]/div[2]/div[2]/fieldset/div[1]/dl[3]/dd[2]/div/input'\n",
    "        ).send_keys('rjskr03#')\n",
    ")\n",
    "\n",
    "(\n",
    "    driver.find_element(\n",
    "        By.XPATH, \n",
    "        '/html/body/div[1]/div/div[2]/div[2]/div[2]/fieldset/div[1]/div/button'\n",
    "        ).click()\n",
    ")\n",
    "\n",
    "sleep(1)\n",
    "\n",
    "da = Alert(driver)\n",
    "da.accept()\n",
    "\n",
    "(\n",
    "    WebDriverWait(driver, 10)\n",
    "    .until(EC.element_to_be_clickable\n",
    "    ((\n",
    "        By.XPATH\n",
    "        ,'/html/body/div[1]/div[1]/div[2]/div[1]/div[2]/ul/li[7]/a'))\n",
    "        )\n",
    "        )\n",
    "\n",
    "(\n",
    "    driver.find_element(\n",
    "        By.XPATH, \n",
    "        '/html/body/div[1]/div[1]/div[2]/div[1]/div[2]/ul/li[7]/a'\n",
    "        ).click()\n",
    ")\n",
    "\n",
    "sleep(1)\n",
    "\n",
    "driver.switch_to.frame('subBody')\n",
    "\n",
    "(\n",
    "    driver.find_element(\n",
    "        By.XPATH, \n",
    "        '/html/body/div/div/div/div[1]/div[2]/div[3]/ul/li[2]/div/a'\n",
    "        ).click()\n",
    ")\n"
   ]
  },
  {
   "cell_type": "code",
   "execution_count": 2,
   "metadata": {},
   "outputs": [],
   "source": [
    "(\n",
    "    driver.find_element(\n",
    "        By.XPATH, \n",
    "        '/html/body/div/div/div/div[2]/div[2]/div[2]/div/select'\n",
    "        ).click()\n",
    ")\n",
    "\n"
   ]
  },
  {
   "cell_type": "code",
   "execution_count": 3,
   "metadata": {},
   "outputs": [],
   "source": [
    "(\n",
    "    driver.find_element(\n",
    "        By.XPATH, \n",
    "        '/html/body/div/div/div/div[2]/div[2]/div[2]/div/select/option[28]'\n",
    "        ).click()\n",
    ")\n",
    "\n"
   ]
  },
  {
   "cell_type": "code",
   "execution_count": 5,
   "metadata": {},
   "outputs": [],
   "source": [
    "(\n",
    "    driver.find_element(\n",
    "        By.XPATH, \n",
    "        '/html/body/div/div/div/div[2]/div[3]/div[4]/table/tbody/tr[1]/td[1]/input[1]'\n",
    "        ).click()\n",
    ")\n"
   ]
  },
  {
   "cell_type": "code",
   "execution_count": 24,
   "metadata": {},
   "outputs": [],
   "source": [
    "#condo_calendar > tr:nth-child(5) > td.\\33 \n"
   ]
  },
  {
   "cell_type": "code",
   "execution_count": 28,
   "metadata": {},
   "outputs": [],
   "source": [
    "# -*- coding: utf-8 -*-\n",
    "from selenium import webdriver\n",
    "from selenium.webdriver.common.by import By\n",
    "from selenium.webdriver.support.select import Select\n",
    "\n",
    "\n",
    "driver = webdriver.Chrome(\"chromedriver\")\n",
    "driver.get('https://etk.srail.co.kr/cmc/01/selectLoginForm.do')\n",
    "driver.implicitly_wait(15)\n",
    "\n",
    "# 로그인\n",
    "driver.find_element(By.ID, 'srchDvNm01').send_keys('2193390557') # 회원번호\n",
    "driver.find_element(By.ID, 'hmpgPwdCphd01').send_keys(\"happykeon00!!\") # 비밀번호\n",
    "driver.find_element(By.XPATH, '//*[@id=\"login-form\"]/fieldset/div[1]/div[1]/div[2]/div/div[2]/input').click()\n",
    "driver.implicitly_wait(5)\n",
    "\n",
    "# 기차 조회 페이지로 이동\n",
    "driver.get('https://etk.srail.kr/hpg/hra/01/selectScheduleList.do')\n",
    "driver.implicitly_wait(5)\n",
    "\n",
    "# 출발지 입력\n",
    "dep_stn = driver.find_element(By.ID, 'dptRsStnCdNm')\n",
    "dep_stn.clear()\n",
    "dep_stn.send_keys(\"동탄\")\n",
    "\n",
    "# 도착지 입력\n",
    "arr_stn = driver.find_element(By.ID, 'arvRsStnCdNm')\n",
    "arr_stn.clear()\n",
    "arr_stn.send_keys(\"수서\")\n",
    "\n",
    "# 출발 날짜\n",
    "elm_dptDt = driver.find_element(By.ID, \"dptDt\")\n",
    "driver.execute_script(\"arguments[0].setAttribute('style','display: True;')\", elm_dptDt)\n",
    "Select(driver.find_element(By.ID,\"dptDt\")).select_by_value(\"20221207\")\n",
    "\n",
    "# 출발 시간\n",
    "elm_dptTm = driver.find_element(By.ID, \"dptTm\")\n",
    "driver.execute_script(\"arguments[0].setAttribute('style','display: True;')\", elm_dptTm)\n",
    "Select(driver.find_element(By.ID, \"dptTm\")).select_by_visible_text(\"12\")\n",
    "\n",
    "# 조회하기 버튼 클릭\n",
    "driver.find_element(By.XPATH,\"//input[@value='조회하기']\").click()\n",
    "driver.implicitly_wait(5)\n",
    "\n"
   ]
  },
  {
   "cell_type": "code",
   "execution_count": null,
   "metadata": {},
   "outputs": [],
   "source": []
  },
  {
   "cell_type": "code",
   "execution_count": 6,
   "metadata": {},
   "outputs": [],
   "source": [
    "\n",
    "\n",
    "driver.find_element(By.XPATH,\"/html/body/div/div[4]/div/div[3]/div[1]/form/fieldset/div[6]/table/tbody/tr[1]/td[7]/a\").click()\n"
   ]
  },
  {
   "cell_type": "code",
   "execution_count": 7,
   "metadata": {},
   "outputs": [],
   "source": [
    "\n",
    "driver.find_element(By.XPATH,'/html/body/div/div[4]/div/div[2]/form/fieldset/div[11]/a[1]').click()\n",
    "\n",
    "/html/body/div/div[4]/div/div[3]/div[1]/form/fieldset/div[6]/table/tbody/tr[4]/td[7]/a\n",
    "/html/body/div/div[4]/div/div[3]/div[1]/form/fieldset/div[6]/table/tbody/tr[4]/td[6]/a"
   ]
  }
 ],
 "metadata": {
  "kernelspec": {
   "display_name": "Python 3.11.0 64-bit",
   "language": "python",
   "name": "python3"
  },
  "language_info": {
   "codemirror_mode": {
    "name": "ipython",
    "version": 3
   },
   "file_extension": ".py",
   "mimetype": "text/x-python",
   "name": "python",
   "nbconvert_exporter": "python",
   "pygments_lexer": "ipython3",
   "version": "3.11.0 (main, Oct 24 2022, 18:26:48) [MSC v.1933 64 bit (AMD64)]"
  },
  "orig_nbformat": 4,
  "vscode": {
   "interpreter": {
    "hash": "1682e5d06a6d97c1b1cf6bb4ae6cf16223e994936ddb1d53664597d7d46101fa"
   }
  }
 },
 "nbformat": 4,
 "nbformat_minor": 2
}
